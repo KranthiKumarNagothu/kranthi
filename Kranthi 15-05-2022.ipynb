{
 "cells": [
  {
   "cell_type": "code",
   "execution_count": 34,
   "id": "28c242d7",
   "metadata": {},
   "outputs": [
    {
     "data": {
      "text/plain": [
       "'h   r tnrrmglsnimengyosi dtfco'"
      ]
     },
     "execution_count": 34,
     "metadata": {},
     "output_type": "execute_result"
    }
   ],
   "source": [
    "s=\"this is My First Python programming class and i am learning python string and its function\"\n",
    "#1.Try to extract data from index 1 to index 300 with a jump of 3.\n",
    "s[1:300:3]"
   ]
  },
  {
   "cell_type": "code",
   "execution_count": 10,
   "id": "7e06b698",
   "metadata": {},
   "outputs": [
    {
     "data": {
      "text/plain": [
       "'noitcnuf sti dna gnirts nohtyp gninrael ma i dna ssalc gnimmargorp nohtyP tsriF yM si siht'"
      ]
     },
     "execution_count": 10,
     "metadata": {},
     "output_type": "execute_result"
    }
   ],
   "source": [
    "#2.Try to reverse a string without using reverse function.\n",
    "s[::-1]"
   ]
  },
  {
   "cell_type": "code",
   "execution_count": null,
   "id": "a3e1f52b",
   "metadata": {},
   "outputs": [],
   "source": []
  },
  {
   "cell_type": "code",
   "execution_count": 21,
   "id": "8ee2e724",
   "metadata": {},
   "outputs": [
    {
     "data": {
      "text/plain": [
       "'THIS IS MY FIRST PYTHON PROGRAMMING CLASS AND I AM LEARNING PYTHON STRING AND ITS FUNCTION'"
      ]
     },
     "execution_count": 21,
     "metadata": {},
     "output_type": "execute_result"
    }
   ],
   "source": [
    "#3.Try to split a string after conversion of entire string in uppercase.\n",
    "s.upper()"
   ]
  },
  {
   "cell_type": "code",
   "execution_count": 23,
   "id": "4064d60b",
   "metadata": {},
   "outputs": [
    {
     "data": {
      "text/plain": [
       "'THIS IS MY FIRST PYTHON PROGRAMMING CLASS AND I AM LEARNING PYTHON STRING AND ITS FUNCTION'"
      ]
     },
     "execution_count": 23,
     "metadata": {},
     "output_type": "execute_result"
    }
   ],
   "source": [
    "s=s.upper()\n",
    "s"
   ]
  },
  {
   "cell_type": "code",
   "execution_count": 28,
   "id": "6c9cbea5",
   "metadata": {},
   "outputs": [
    {
     "data": {
      "text/plain": [
       "['THIS',\n",
       " 'IS',\n",
       " 'MY',\n",
       " 'FIRST',\n",
       " 'PYTHON',\n",
       " 'PROGRAMMING',\n",
       " 'CLASS',\n",
       " 'AND',\n",
       " 'I',\n",
       " 'AM',\n",
       " 'LEARNING',\n",
       " 'PYTHON',\n",
       " 'STRING',\n",
       " 'AND',\n",
       " 'ITS',\n",
       " 'FUNCTION']"
      ]
     },
     "execution_count": 28,
     "metadata": {},
     "output_type": "execute_result"
    }
   ],
   "source": [
    "s.split(' ')"
   ]
  },
  {
   "cell_type": "code",
   "execution_count": 29,
   "id": "10b0f2e0",
   "metadata": {},
   "outputs": [
    {
     "data": {
      "text/plain": [
       "'this is my first python programming class and i am learning python string and its function'"
      ]
     },
     "execution_count": 29,
     "metadata": {},
     "output_type": "execute_result"
    }
   ],
   "source": [
    "#4.Try to convert the whole string into lowercase.\n",
    "s.lower()"
   ]
  },
  {
   "cell_type": "code",
   "execution_count": 30,
   "id": "45be1e05",
   "metadata": {},
   "outputs": [
    {
     "data": {
      "text/plain": [
       "'This is my first python programming class and i am learning python string and its function'"
      ]
     },
     "execution_count": 30,
     "metadata": {},
     "output_type": "execute_result"
    }
   ],
   "source": [
    "#5.Try to capitalize the whole string.\n",
    "s.capitalize()"
   ]
  },
  {
   "cell_type": "code",
   "execution_count": 44,
   "id": "fb0537b6",
   "metadata": {},
   "outputs": [
    {
     "data": {
      "text/plain": [
       "False"
      ]
     },
     "execution_count": 44,
     "metadata": {},
     "output_type": "execute_result"
    }
   ],
   "source": [
    "#6.Write a difference isalnum() and isaplha().\n",
    "#isalpha():Returns true if the string is an alphabetic string.Otherwise, it returns false.\n",
    "s.isalpha()"
   ]
  },
  {
   "cell_type": "code",
   "execution_count": 47,
   "id": "617be49d",
   "metadata": {},
   "outputs": [
    {
     "data": {
      "text/plain": [
       "False"
      ]
     },
     "execution_count": 47,
     "metadata": {},
     "output_type": "execute_result"
    }
   ],
   "source": [
    "#isalnum():Returns true if the string contains alpha-numeric characters.O/w, it returns false.\n",
    "s.isalnum()"
   ]
  },
  {
   "cell_type": "code",
   "execution_count": 65,
   "id": "df91aebf",
   "metadata": {},
   "outputs": [
    {
     "data": {
      "text/plain": [
       "'kranthi             kumar               nagothu'"
      ]
     },
     "execution_count": 65,
     "metadata": {},
     "output_type": "execute_result"
    }
   ],
   "source": [
    "#7.Try to give an example of expand tab\n",
    "s1='kranthi\\tkumar\\tnagothu'\n",
    "s1.expandtabs(20)"
   ]
  },
  {
   "cell_type": "code",
   "execution_count": 70,
   "id": "e93cc7ef",
   "metadata": {},
   "outputs": [
    {
     "data": {
      "text/plain": [
       "'kranthi'"
      ]
     },
     "execution_count": 70,
     "metadata": {},
     "output_type": "execute_result"
    }
   ],
   "source": [
    "#8.Give an example of strip, lstrip and rstrip\n",
    "s2='   kranthi    '\n",
    "s2.strip()"
   ]
  },
  {
   "cell_type": "code",
   "execution_count": 68,
   "id": "aa654672",
   "metadata": {},
   "outputs": [
    {
     "data": {
      "text/plain": [
       "'   kranthi'"
      ]
     },
     "execution_count": 68,
     "metadata": {},
     "output_type": "execute_result"
    }
   ],
   "source": [
    "s2.rstrip()\n"
   ]
  },
  {
   "cell_type": "code",
   "execution_count": 71,
   "id": "e7b328cf",
   "metadata": {},
   "outputs": [
    {
     "data": {
      "text/plain": [
       "'kranthi    '"
      ]
     },
     "execution_count": 71,
     "metadata": {},
     "output_type": "execute_result"
    }
   ],
   "source": [
    "s2.lstrip()"
   ]
  },
  {
   "cell_type": "code",
   "execution_count": 73,
   "id": "e8106aa5",
   "metadata": {},
   "outputs": [
    {
     "data": {
      "text/plain": [
       "'Raju'"
      ]
     },
     "execution_count": 73,
     "metadata": {},
     "output_type": "execute_result"
    }
   ],
   "source": [
    "#9.Replace a string character by another character taking your own example.\n",
    "s3='Raju'\n",
    "s3\n"
   ]
  },
  {
   "cell_type": "code",
   "execution_count": 76,
   "id": "cd9482f3",
   "metadata": {},
   "outputs": [
    {
     "data": {
      "text/plain": [
       "'Raja'"
      ]
     },
     "execution_count": 76,
     "metadata": {},
     "output_type": "execute_result"
    }
   ],
   "source": [
    "s3.replace('u','a')"
   ]
  },
  {
   "cell_type": "code",
   "execution_count": 82,
   "id": "4e2d8e99",
   "metadata": {},
   "outputs": [
    {
     "data": {
      "text/plain": [
       "'                     prakash                      '"
      ]
     },
     "execution_count": 82,
     "metadata": {},
     "output_type": "execute_result"
    }
   ],
   "source": [
    "#10.try to give a definition of string center function with an example.\n",
    "#center() is used to put our string in the center of the width we have given.\n",
    "#suppose we give 50 as a width, then our string can be placed in the center.\n",
    "s4='prakash'\n",
    "s4.center(50)"
   ]
  },
  {
   "cell_type": "code",
   "execution_count": 83,
   "id": "46d8af0b",
   "metadata": {},
   "outputs": [],
   "source": [
    "#11.Write your own defintion of compiler and interpretor.\n",
    "#compiler:It is something where we write the code and save the file and  then execute the code.\n",
    "#interpreter is something where the code is directly executed on the same page as soon as the code is written.\n"
   ]
  },
  {
   "cell_type": "code",
   "execution_count": 84,
   "id": "6e0eea70",
   "metadata": {},
   "outputs": [],
   "source": [
    "#12.Python is an interpreted of compiled language.\n",
    "#In python, we can execute the code in both ways i.e. by interpreting the code and compiling too.\n"
   ]
  },
  {
   "cell_type": "code",
   "execution_count": null,
   "id": "2de81b94",
   "metadata": {},
   "outputs": [],
   "source": [
    "#13.Usecase of Python:Can be used for Mining the useful knowledge from the huge amount of data."
   ]
  }
 ],
 "metadata": {
  "kernelspec": {
   "display_name": "Python 3 (ipykernel)",
   "language": "python",
   "name": "python3"
  },
  "language_info": {
   "codemirror_mode": {
    "name": "ipython",
    "version": 3
   },
   "file_extension": ".py",
   "mimetype": "text/x-python",
   "name": "python",
   "nbconvert_exporter": "python",
   "pygments_lexer": "ipython3",
   "version": "3.9.7"
  }
 },
 "nbformat": 4,
 "nbformat_minor": 5
}
